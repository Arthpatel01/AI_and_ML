{
  "nbformat": 4,
  "nbformat_minor": 0,
  "metadata": {
    "colab": {
      "name": "Diabetes.ipynb",
      "provenance": [],
      "authorship_tag": "ABX9TyN2u6R9a17BvT2o5bQP+cuj",
      "include_colab_link": true
    },
    "kernelspec": {
      "name": "python3",
      "display_name": "Python 3"
    },
    "language_info": {
      "name": "python"
    }
  },
  "cells": [
    {
      "cell_type": "markdown",
      "metadata": {
        "id": "view-in-github",
        "colab_type": "text"
      },
      "source": [
        "<a href=\"https://colab.research.google.com/github/Arthpatel01/AI_and_ML/blob/main/Diabetes.ipynb\" target=\"_parent\"><img src=\"https://colab.research.google.com/assets/colab-badge.svg\" alt=\"Open In Colab\"/></a>"
      ]
    },
    {
      "cell_type": "code",
      "metadata": {
        "id": "CefoJfWsoTZU"
      },
      "source": [
        "import pandas as pd\n",
        "import numpy as np\n",
        "from numpy import loadtxt\n",
        "import matplotlib.pyplot as plt\n",
        "from keras.models import Sequential\n",
        "from keras.layers import Dense"
      ],
      "execution_count": 1,
      "outputs": []
    },
    {
      "cell_type": "code",
      "metadata": {
        "id": "Sqr0rDOIqc7q"
      },
      "source": [
        "column_names=[\"pregnant\", \"glucose\", \"bp\", \"s_thickness\", \"serum_insulin\", \"mass_index\", \"pedigree\", \"age\", \"target\"]\n",
        "df = pd.read_csv(\"/content/pima-indians-diabetes.csv\", names=column_names)"
      ],
      "execution_count": 5,
      "outputs": []
    },
    {
      "cell_type": "code",
      "metadata": {
        "colab": {
          "base_uri": "https://localhost:8080/",
          "height": 205
        },
        "id": "v0xQ7wiCrG1Z",
        "outputId": "6e43c3e9-75cd-4515-f9b3-ef3b3c7fe427"
      },
      "source": [
        "df.head()"
      ],
      "execution_count": 6,
      "outputs": [
        {
          "output_type": "execute_result",
          "data": {
            "text/html": [
              "<div>\n",
              "<style scoped>\n",
              "    .dataframe tbody tr th:only-of-type {\n",
              "        vertical-align: middle;\n",
              "    }\n",
              "\n",
              "    .dataframe tbody tr th {\n",
              "        vertical-align: top;\n",
              "    }\n",
              "\n",
              "    .dataframe thead th {\n",
              "        text-align: right;\n",
              "    }\n",
              "</style>\n",
              "<table border=\"1\" class=\"dataframe\">\n",
              "  <thead>\n",
              "    <tr style=\"text-align: right;\">\n",
              "      <th></th>\n",
              "      <th>pregnant</th>\n",
              "      <th>glucose</th>\n",
              "      <th>bp</th>\n",
              "      <th>s_thickness</th>\n",
              "      <th>serum_insulin</th>\n",
              "      <th>mass_index</th>\n",
              "      <th>pedigree</th>\n",
              "      <th>age</th>\n",
              "      <th>target</th>\n",
              "    </tr>\n",
              "  </thead>\n",
              "  <tbody>\n",
              "    <tr>\n",
              "      <th>0</th>\n",
              "      <td>6</td>\n",
              "      <td>148</td>\n",
              "      <td>72</td>\n",
              "      <td>35</td>\n",
              "      <td>0</td>\n",
              "      <td>33.6</td>\n",
              "      <td>0.627</td>\n",
              "      <td>50</td>\n",
              "      <td>1</td>\n",
              "    </tr>\n",
              "    <tr>\n",
              "      <th>1</th>\n",
              "      <td>1</td>\n",
              "      <td>85</td>\n",
              "      <td>66</td>\n",
              "      <td>29</td>\n",
              "      <td>0</td>\n",
              "      <td>26.6</td>\n",
              "      <td>0.351</td>\n",
              "      <td>31</td>\n",
              "      <td>0</td>\n",
              "    </tr>\n",
              "    <tr>\n",
              "      <th>2</th>\n",
              "      <td>8</td>\n",
              "      <td>183</td>\n",
              "      <td>64</td>\n",
              "      <td>0</td>\n",
              "      <td>0</td>\n",
              "      <td>23.3</td>\n",
              "      <td>0.672</td>\n",
              "      <td>32</td>\n",
              "      <td>1</td>\n",
              "    </tr>\n",
              "    <tr>\n",
              "      <th>3</th>\n",
              "      <td>1</td>\n",
              "      <td>89</td>\n",
              "      <td>66</td>\n",
              "      <td>23</td>\n",
              "      <td>94</td>\n",
              "      <td>28.1</td>\n",
              "      <td>0.167</td>\n",
              "      <td>21</td>\n",
              "      <td>0</td>\n",
              "    </tr>\n",
              "    <tr>\n",
              "      <th>4</th>\n",
              "      <td>0</td>\n",
              "      <td>137</td>\n",
              "      <td>40</td>\n",
              "      <td>35</td>\n",
              "      <td>168</td>\n",
              "      <td>43.1</td>\n",
              "      <td>2.288</td>\n",
              "      <td>33</td>\n",
              "      <td>1</td>\n",
              "    </tr>\n",
              "  </tbody>\n",
              "</table>\n",
              "</div>"
            ],
            "text/plain": [
              "   pregnant  glucose  bp  s_thickness  ...  mass_index  pedigree  age  target\n",
              "0         6      148  72           35  ...        33.6     0.627   50       1\n",
              "1         1       85  66           29  ...        26.6     0.351   31       0\n",
              "2         8      183  64            0  ...        23.3     0.672   32       1\n",
              "3         1       89  66           23  ...        28.1     0.167   21       0\n",
              "4         0      137  40           35  ...        43.1     2.288   33       1\n",
              "\n",
              "[5 rows x 9 columns]"
            ]
          },
          "metadata": {},
          "execution_count": 6
        }
      ]
    },
    {
      "cell_type": "code",
      "metadata": {
        "colab": {
          "base_uri": "https://localhost:8080/"
        },
        "id": "nBm3XMZBranj",
        "outputId": "e630e75a-f95a-4681-bc15-305cd7e673fc"
      },
      "source": [
        "df.shape"
      ],
      "execution_count": 7,
      "outputs": [
        {
          "output_type": "execute_result",
          "data": {
            "text/plain": [
              "(768, 9)"
            ]
          },
          "metadata": {},
          "execution_count": 7
        }
      ]
    },
    {
      "cell_type": "code",
      "metadata": {
        "colab": {
          "base_uri": "https://localhost:8080/"
        },
        "id": "6AezcOaNtodf",
        "outputId": "64b600a2-3476-4471-bac1-e63f6ae98144"
      },
      "source": [
        "df.info()"
      ],
      "execution_count": 8,
      "outputs": [
        {
          "output_type": "stream",
          "name": "stdout",
          "text": [
            "<class 'pandas.core.frame.DataFrame'>\n",
            "RangeIndex: 768 entries, 0 to 767\n",
            "Data columns (total 9 columns):\n",
            " #   Column         Non-Null Count  Dtype  \n",
            "---  ------         --------------  -----  \n",
            " 0   pregnant       768 non-null    int64  \n",
            " 1   glucose        768 non-null    int64  \n",
            " 2   bp             768 non-null    int64  \n",
            " 3   s_thickness    768 non-null    int64  \n",
            " 4   serum_insulin  768 non-null    int64  \n",
            " 5   mass_index     768 non-null    float64\n",
            " 6   pedigree       768 non-null    float64\n",
            " 7   age            768 non-null    int64  \n",
            " 8   target         768 non-null    int64  \n",
            "dtypes: float64(2), int64(7)\n",
            "memory usage: 54.1 KB\n"
          ]
        }
      ]
    },
    {
      "cell_type": "code",
      "metadata": {
        "colab": {
          "base_uri": "https://localhost:8080/",
          "height": 319
        },
        "id": "WmKeL0IHtug3",
        "outputId": "fbe93e9c-81d2-4dd9-de58-c553c51210ac"
      },
      "source": [
        "df.describe()"
      ],
      "execution_count": 9,
      "outputs": [
        {
          "output_type": "execute_result",
          "data": {
            "text/html": [
              "<div>\n",
              "<style scoped>\n",
              "    .dataframe tbody tr th:only-of-type {\n",
              "        vertical-align: middle;\n",
              "    }\n",
              "\n",
              "    .dataframe tbody tr th {\n",
              "        vertical-align: top;\n",
              "    }\n",
              "\n",
              "    .dataframe thead th {\n",
              "        text-align: right;\n",
              "    }\n",
              "</style>\n",
              "<table border=\"1\" class=\"dataframe\">\n",
              "  <thead>\n",
              "    <tr style=\"text-align: right;\">\n",
              "      <th></th>\n",
              "      <th>pregnant</th>\n",
              "      <th>glucose</th>\n",
              "      <th>bp</th>\n",
              "      <th>s_thickness</th>\n",
              "      <th>serum_insulin</th>\n",
              "      <th>mass_index</th>\n",
              "      <th>pedigree</th>\n",
              "      <th>age</th>\n",
              "      <th>target</th>\n",
              "    </tr>\n",
              "  </thead>\n",
              "  <tbody>\n",
              "    <tr>\n",
              "      <th>count</th>\n",
              "      <td>768.000000</td>\n",
              "      <td>768.000000</td>\n",
              "      <td>768.000000</td>\n",
              "      <td>768.000000</td>\n",
              "      <td>768.000000</td>\n",
              "      <td>768.000000</td>\n",
              "      <td>768.000000</td>\n",
              "      <td>768.000000</td>\n",
              "      <td>768.000000</td>\n",
              "    </tr>\n",
              "    <tr>\n",
              "      <th>mean</th>\n",
              "      <td>3.845052</td>\n",
              "      <td>120.894531</td>\n",
              "      <td>69.105469</td>\n",
              "      <td>20.536458</td>\n",
              "      <td>79.799479</td>\n",
              "      <td>31.992578</td>\n",
              "      <td>0.471876</td>\n",
              "      <td>33.240885</td>\n",
              "      <td>0.348958</td>\n",
              "    </tr>\n",
              "    <tr>\n",
              "      <th>std</th>\n",
              "      <td>3.369578</td>\n",
              "      <td>31.972618</td>\n",
              "      <td>19.355807</td>\n",
              "      <td>15.952218</td>\n",
              "      <td>115.244002</td>\n",
              "      <td>7.884160</td>\n",
              "      <td>0.331329</td>\n",
              "      <td>11.760232</td>\n",
              "      <td>0.476951</td>\n",
              "    </tr>\n",
              "    <tr>\n",
              "      <th>min</th>\n",
              "      <td>0.000000</td>\n",
              "      <td>0.000000</td>\n",
              "      <td>0.000000</td>\n",
              "      <td>0.000000</td>\n",
              "      <td>0.000000</td>\n",
              "      <td>0.000000</td>\n",
              "      <td>0.078000</td>\n",
              "      <td>21.000000</td>\n",
              "      <td>0.000000</td>\n",
              "    </tr>\n",
              "    <tr>\n",
              "      <th>25%</th>\n",
              "      <td>1.000000</td>\n",
              "      <td>99.000000</td>\n",
              "      <td>62.000000</td>\n",
              "      <td>0.000000</td>\n",
              "      <td>0.000000</td>\n",
              "      <td>27.300000</td>\n",
              "      <td>0.243750</td>\n",
              "      <td>24.000000</td>\n",
              "      <td>0.000000</td>\n",
              "    </tr>\n",
              "    <tr>\n",
              "      <th>50%</th>\n",
              "      <td>3.000000</td>\n",
              "      <td>117.000000</td>\n",
              "      <td>72.000000</td>\n",
              "      <td>23.000000</td>\n",
              "      <td>30.500000</td>\n",
              "      <td>32.000000</td>\n",
              "      <td>0.372500</td>\n",
              "      <td>29.000000</td>\n",
              "      <td>0.000000</td>\n",
              "    </tr>\n",
              "    <tr>\n",
              "      <th>75%</th>\n",
              "      <td>6.000000</td>\n",
              "      <td>140.250000</td>\n",
              "      <td>80.000000</td>\n",
              "      <td>32.000000</td>\n",
              "      <td>127.250000</td>\n",
              "      <td>36.600000</td>\n",
              "      <td>0.626250</td>\n",
              "      <td>41.000000</td>\n",
              "      <td>1.000000</td>\n",
              "    </tr>\n",
              "    <tr>\n",
              "      <th>max</th>\n",
              "      <td>17.000000</td>\n",
              "      <td>199.000000</td>\n",
              "      <td>122.000000</td>\n",
              "      <td>99.000000</td>\n",
              "      <td>846.000000</td>\n",
              "      <td>67.100000</td>\n",
              "      <td>2.420000</td>\n",
              "      <td>81.000000</td>\n",
              "      <td>1.000000</td>\n",
              "    </tr>\n",
              "  </tbody>\n",
              "</table>\n",
              "</div>"
            ],
            "text/plain": [
              "         pregnant     glucose          bp  ...    pedigree         age      target\n",
              "count  768.000000  768.000000  768.000000  ...  768.000000  768.000000  768.000000\n",
              "mean     3.845052  120.894531   69.105469  ...    0.471876   33.240885    0.348958\n",
              "std      3.369578   31.972618   19.355807  ...    0.331329   11.760232    0.476951\n",
              "min      0.000000    0.000000    0.000000  ...    0.078000   21.000000    0.000000\n",
              "25%      1.000000   99.000000   62.000000  ...    0.243750   24.000000    0.000000\n",
              "50%      3.000000  117.000000   72.000000  ...    0.372500   29.000000    0.000000\n",
              "75%      6.000000  140.250000   80.000000  ...    0.626250   41.000000    1.000000\n",
              "max     17.000000  199.000000  122.000000  ...    2.420000   81.000000    1.000000\n",
              "\n",
              "[8 rows x 9 columns]"
            ]
          },
          "metadata": {},
          "execution_count": 9
        }
      ]
    },
    {
      "cell_type": "code",
      "metadata": {
        "colab": {
          "base_uri": "https://localhost:8080/",
          "height": 410
        },
        "id": "T79DxJTqt70J",
        "outputId": "2c8173c9-d1ac-4f46-d661-c400a0969e67"
      },
      "source": [
        "plt.boxplot(df['pregnant'])"
      ],
      "execution_count": 10,
      "outputs": [
        {
          "output_type": "execute_result",
          "data": {
            "text/plain": [
              "{'boxes': [<matplotlib.lines.Line2D at 0x7f16dd2d2c50>],\n",
              " 'caps': [<matplotlib.lines.Line2D at 0x7f16dd624890>,\n",
              "  <matplotlib.lines.Line2D at 0x7f16dd624d50>],\n",
              " 'fliers': [<matplotlib.lines.Line2D at 0x7f16dd66cc90>],\n",
              " 'means': [],\n",
              " 'medians': [<matplotlib.lines.Line2D at 0x7f16e0c83050>],\n",
              " 'whiskers': [<matplotlib.lines.Line2D at 0x7f16df0aa390>,\n",
              "  <matplotlib.lines.Line2D at 0x7f16e0ce4450>]}"
            ]
          },
          "metadata": {},
          "execution_count": 10
        },
        {
          "output_type": "display_data",
          "data": {
            "image/png": "[encoded data removed]",
            "text/plain": [
              "<Figure size 432x288 with 1 Axes>"
            ]
          },
          "metadata": {
            "needs_background": "light"
          }
        }
      ]
    },
    {
      "cell_type": "code",
      "metadata": {
        "colab": {
          "base_uri": "https://localhost:8080/",
          "height": 283
        },
        "id": "XBF5YaOrubmn",
        "outputId": "1ff7b84f-affc-4012-abe0-05853099fcc4"
      },
      "source": [
        "plt.plot(df.pregnant)"
      ],
      "execution_count": 12,
      "outputs": [
        {
          "output_type": "execute_result",
          "data": {
            "text/plain": [
              "[<matplotlib.lines.Line2D at 0x7f16dcd49810>]"
            ]
          },
          "metadata": {},
          "execution_count": 12
        },
        {
          "output_type": "display_data",
          "data": {
            "image/png": "[encoded data removed]",
            "text/plain": [
              "<Figure size 432x288 with 1 Axes>"
            ]
          },
          "metadata": {
            "needs_background": "light"
          }
        }
      ]
    },
    {
      "cell_type": "code",
      "metadata": {
        "colab": {
          "base_uri": "https://localhost:8080/",
          "height": 410
        },
        "id": "gTPvlRXJui5l",
        "outputId": "7efb1f30-e9c6-4947-be82-311f2f53b3f7"
      },
      "source": [
        "plt.boxplot(df.serum_insulin)"
      ],
      "execution_count": 13,
      "outputs": [
        {
          "output_type": "execute_result",
          "data": {
            "text/plain": [
              "{'boxes': [<matplotlib.lines.Line2D at 0x7f16dccdf290>],\n",
              " 'caps': [<matplotlib.lines.Line2D at 0x7f16dcce8b90>,\n",
              "  <matplotlib.lines.Line2D at 0x7f16dcce8cd0>],\n",
              " 'fliers': [<matplotlib.lines.Line2D at 0x7f16dccef750>],\n",
              " 'means': [],\n",
              " 'medians': [<matplotlib.lines.Line2D at 0x7f16dccefa10>],\n",
              " 'whiskers': [<matplotlib.lines.Line2D at 0x7f16dccdf750>,\n",
              "  <matplotlib.lines.Line2D at 0x7f16dcce8f10>]}"
            ]
          },
          "metadata": {},
          "execution_count": 13
        },
        {
          "output_type": "display_data",
          "data": {
            "image/png": "[encoded data removed]",
            "text/plain": [
              "<Figure size 432x288 with 1 Axes>"
            ]
          },
          "metadata": {
            "needs_background": "light"
          }
        }
      ]
    },
    {
      "cell_type": "code",
      "metadata": {
        "id": "4UTOcLR3u9U3"
      },
      "source": [
        "\n",
        "x = df.drop('target', axis=1)\n",
        "y = df['target']"
      ],
      "execution_count": 14,
      "outputs": []
    },
    {
      "cell_type": "code",
      "metadata": {
        "colab": {
          "base_uri": "https://localhost:8080/",
          "height": 205
        },
        "id": "vbUFkLbIzUqc",
        "outputId": "e295f84f-0599-438c-8451-23c1bd915c8c"
      },
      "source": [
        "x.head()"
      ],
      "execution_count": 15,
      "outputs": [
        {
          "output_type": "execute_result",
          "data": {
            "text/html": [
              "<div>\n",
              "<style scoped>\n",
              "    .dataframe tbody tr th:only-of-type {\n",
              "        vertical-align: middle;\n",
              "    }\n",
              "\n",
              "    .dataframe tbody tr th {\n",
              "        vertical-align: top;\n",
              "    }\n",
              "\n",
              "    .dataframe thead th {\n",
              "        text-align: right;\n",
              "    }\n",
              "</style>\n",
              "<table border=\"1\" class=\"dataframe\">\n",
              "  <thead>\n",
              "    <tr style=\"text-align: right;\">\n",
              "      <th></th>\n",
              "      <th>pregnant</th>\n",
              "      <th>glucose</th>\n",
              "      <th>bp</th>\n",
              "      <th>s_thickness</th>\n",
              "      <th>serum_insulin</th>\n",
              "      <th>mass_index</th>\n",
              "      <th>pedigree</th>\n",
              "      <th>age</th>\n",
              "    </tr>\n",
              "  </thead>\n",
              "  <tbody>\n",
              "    <tr>\n",
              "      <th>0</th>\n",
              "      <td>6</td>\n",
              "      <td>148</td>\n",
              "      <td>72</td>\n",
              "      <td>35</td>\n",
              "      <td>0</td>\n",
              "      <td>33.6</td>\n",
              "      <td>0.627</td>\n",
              "      <td>50</td>\n",
              "    </tr>\n",
              "    <tr>\n",
              "      <th>1</th>\n",
              "      <td>1</td>\n",
              "      <td>85</td>\n",
              "      <td>66</td>\n",
              "      <td>29</td>\n",
              "      <td>0</td>\n",
              "      <td>26.6</td>\n",
              "      <td>0.351</td>\n",
              "      <td>31</td>\n",
              "    </tr>\n",
              "    <tr>\n",
              "      <th>2</th>\n",
              "      <td>8</td>\n",
              "      <td>183</td>\n",
              "      <td>64</td>\n",
              "      <td>0</td>\n",
              "      <td>0</td>\n",
              "      <td>23.3</td>\n",
              "      <td>0.672</td>\n",
              "      <td>32</td>\n",
              "    </tr>\n",
              "    <tr>\n",
              "      <th>3</th>\n",
              "      <td>1</td>\n",
              "      <td>89</td>\n",
              "      <td>66</td>\n",
              "      <td>23</td>\n",
              "      <td>94</td>\n",
              "      <td>28.1</td>\n",
              "      <td>0.167</td>\n",
              "      <td>21</td>\n",
              "    </tr>\n",
              "    <tr>\n",
              "      <th>4</th>\n",
              "      <td>0</td>\n",
              "      <td>137</td>\n",
              "      <td>40</td>\n",
              "      <td>35</td>\n",
              "      <td>168</td>\n",
              "      <td>43.1</td>\n",
              "      <td>2.288</td>\n",
              "      <td>33</td>\n",
              "    </tr>\n",
              "  </tbody>\n",
              "</table>\n",
              "</div>"
            ],
            "text/plain": [
              "   pregnant  glucose  bp  s_thickness  serum_insulin  mass_index  pedigree  age\n",
              "0         6      148  72           35              0        33.6     0.627   50\n",
              "1         1       85  66           29              0        26.6     0.351   31\n",
              "2         8      183  64            0              0        23.3     0.672   32\n",
              "3         1       89  66           23             94        28.1     0.167   21\n",
              "4         0      137  40           35            168        43.1     2.288   33"
            ]
          },
          "metadata": {},
          "execution_count": 15
        }
      ]
    },
    {
      "cell_type": "code",
      "metadata": {
        "colab": {
          "base_uri": "https://localhost:8080/"
        },
        "id": "u39H5fjJzWIK",
        "outputId": "7acf8650-bd81-4ec7-e2b6-88b623b6a08d"
      },
      "source": [
        "y"
      ],
      "execution_count": 16,
      "outputs": [
        {
          "output_type": "execute_result",
          "data": {
            "text/plain": [
              "0      1\n",
              "1      0\n",
              "2      1\n",
              "3      0\n",
              "4      1\n",
              "      ..\n",
              "763    0\n",
              "764    0\n",
              "765    0\n",
              "766    1\n",
              "767    0\n",
              "Name: target, Length: 768, dtype: int64"
            ]
          },
          "metadata": {},
          "execution_count": 16
        }
      ]
    },
    {
      "cell_type": "code",
      "metadata": {
        "id": "6Apho1nnzYOd"
      },
      "source": [
        "from sklearn.model_selection import train_test_split"
      ],
      "execution_count": 17,
      "outputs": []
    },
    {
      "cell_type": "code",
      "metadata": {
        "id": "aQPTUMQu0XU1"
      },
      "source": [
        "x_train, x_test, y_train, y_test = train_test_split(x, y, test_size=0.2)"
      ],
      "execution_count": 18,
      "outputs": []
    },
    {
      "cell_type": "code",
      "metadata": {
        "colab": {
          "base_uri": "https://localhost:8080/"
        },
        "id": "Jm378SK80gCt",
        "outputId": "21df4bbf-98eb-446e-d5ba-1b13655f7403"
      },
      "source": [
        "x_train.shape, x_test.shape, y_train.shape"
      ],
      "execution_count": 19,
      "outputs": [
        {
          "output_type": "execute_result",
          "data": {
            "text/plain": [
              "((614, 8), (154, 8), (614,))"
            ]
          },
          "metadata": {},
          "execution_count": 19
        }
      ]
    },
    {
      "cell_type": "code",
      "metadata": {
        "id": "-5eW8Pr50ks0"
      },
      "source": [
        "#Model:\n",
        "\n",
        "model = Sequential()"
      ],
      "execution_count": 20,
      "outputs": []
    },
    {
      "cell_type": "code",
      "metadata": {
        "id": "pw37lIuR2zLq"
      },
      "source": [
        "model.add(Dense(12, input_dim=8, activation='relu'))\n",
        "model.add(Dense(8, activation=\"relu\"))\n",
        "model.add(Dense(1, activation=\"sigmoid\"))"
      ],
      "execution_count": 21,
      "outputs": []
    },
    {
      "cell_type": "code",
      "metadata": {
        "id": "06o7R0V23Jq6"
      },
      "source": [
        "model.compile(loss=\"binary_crossentropy\", optimizer=\"adam\", metrics=['accuracy'])"
      ],
      "execution_count": 22,
      "outputs": []
    },
    {
      "cell_type": "code",
      "metadata": {
        "colab": {
          "base_uri": "https://localhost:8080/"
        },
        "id": "tqRZpF9M4WP_",
        "outputId": "c4656b00-9b61-4aff-aba1-9e9f954e0678"
      },
      "source": [
        "model.fit(x_train, y_train, epochs=150, batch_size=10)"
      ],
      "execution_count": 23,
      "outputs": [
        {
          "output_type": "stream",
          "name": "stdout",
          "text": [
            "Epoch 1/150\n",
            "62/62 [==============================] - 1s 1ms/step - loss: 2.8302 - accuracy: 0.5114\n",
            "Epoch 2/150\n",
            "62/62 [==============================] - 0s 1ms/step - loss: 0.9442 - accuracy: 0.5375\n",
            "Epoch 3/150\n",
            "62/62 [==============================] - 0s 1ms/step - loss: 0.8100 - accuracy: 0.6205\n",
            "Epoch 4/150\n",
            "62/62 [==============================] - 0s 1ms/step - loss: 0.7536 - accuracy: 0.6042\n",
            "Epoch 5/150\n",
            "62/62 [==============================] - 0s 1ms/step - loss: 0.7106 - accuracy: 0.6287\n",
            "Epoch 6/150\n",
            "62/62 [==============================] - 0s 1ms/step - loss: 0.6863 - accuracy: 0.6384\n",
            "Epoch 7/150\n",
            "62/62 [==============================] - 0s 1ms/step - loss: 0.6594 - accuracy: 0.6498\n",
            "Epoch 8/150\n",
            "62/62 [==============================] - 0s 1ms/step - loss: 0.6717 - accuracy: 0.6564\n",
            "Epoch 9/150\n",
            "62/62 [==============================] - 0s 1ms/step - loss: 0.6460 - accuracy: 0.6352\n",
            "Epoch 10/150\n",
            "62/62 [==============================] - 0s 1ms/step - loss: 0.6465 - accuracy: 0.6726\n",
            "Epoch 11/150\n",
            "62/62 [==============================] - 0s 1ms/step - loss: 0.6229 - accuracy: 0.6808\n",
            "Epoch 12/150\n",
            "62/62 [==============================] - 0s 1ms/step - loss: 0.6379 - accuracy: 0.6515\n",
            "Epoch 13/150\n",
            "62/62 [==============================] - 0s 1ms/step - loss: 0.6357 - accuracy: 0.6726\n",
            "Epoch 14/150\n",
            "62/62 [==============================] - 0s 1ms/step - loss: 0.6579 - accuracy: 0.6466\n",
            "Epoch 15/150\n",
            "62/62 [==============================] - 0s 1ms/step - loss: 0.6246 - accuracy: 0.6954\n",
            "Epoch 16/150\n",
            "62/62 [==============================] - 0s 1ms/step - loss: 0.6164 - accuracy: 0.6743\n",
            "Epoch 17/150\n",
            "62/62 [==============================] - 0s 1ms/step - loss: 0.6115 - accuracy: 0.6857\n",
            "Epoch 18/150\n",
            "62/62 [==============================] - 0s 1ms/step - loss: 0.6100 - accuracy: 0.6743\n",
            "Epoch 19/150\n",
            "62/62 [==============================] - 0s 1ms/step - loss: 0.6305 - accuracy: 0.6678\n",
            "Epoch 20/150\n",
            "62/62 [==============================] - 0s 1ms/step - loss: 0.6080 - accuracy: 0.6580\n",
            "Epoch 21/150\n",
            "62/62 [==============================] - 0s 1ms/step - loss: 0.6079 - accuracy: 0.6775\n",
            "Epoch 22/150\n",
            "62/62 [==============================] - 0s 1ms/step - loss: 0.5941 - accuracy: 0.7020\n",
            "Epoch 23/150\n",
            "62/62 [==============================] - 0s 1ms/step - loss: 0.5800 - accuracy: 0.6889\n",
            "Epoch 24/150\n",
            "62/62 [==============================] - 0s 1ms/step - loss: 0.5944 - accuracy: 0.7166\n",
            "Epoch 25/150\n",
            "62/62 [==============================] - 0s 1ms/step - loss: 0.6011 - accuracy: 0.6906\n",
            "Epoch 26/150\n",
            "62/62 [==============================] - 0s 2ms/step - loss: 0.5799 - accuracy: 0.6857\n",
            "Epoch 27/150\n",
            "62/62 [==============================] - 0s 1ms/step - loss: 0.6037 - accuracy: 0.6808\n",
            "Epoch 28/150\n",
            "62/62 [==============================] - 0s 1ms/step - loss: 0.5843 - accuracy: 0.6889\n",
            "Epoch 29/150\n",
            "62/62 [==============================] - 0s 1ms/step - loss: 0.5833 - accuracy: 0.6873\n",
            "Epoch 30/150\n",
            "62/62 [==============================] - 0s 1ms/step - loss: 0.5629 - accuracy: 0.7215\n",
            "Epoch 31/150\n",
            "62/62 [==============================] - 0s 1ms/step - loss: 0.5695 - accuracy: 0.7199\n",
            "Epoch 32/150\n",
            "62/62 [==============================] - 0s 1ms/step - loss: 0.5669 - accuracy: 0.7101\n",
            "Epoch 33/150\n",
            "62/62 [==============================] - 0s 1ms/step - loss: 0.5706 - accuracy: 0.7101\n",
            "Epoch 34/150\n",
            "62/62 [==============================] - 0s 1ms/step - loss: 0.5743 - accuracy: 0.7020\n",
            "Epoch 35/150\n",
            "62/62 [==============================] - 0s 1ms/step - loss: 0.5547 - accuracy: 0.7280\n",
            "Epoch 36/150\n",
            "62/62 [==============================] - 0s 1ms/step - loss: 0.5656 - accuracy: 0.7068\n",
            "Epoch 37/150\n",
            "62/62 [==============================] - 0s 1ms/step - loss: 0.5655 - accuracy: 0.7215\n",
            "Epoch 38/150\n",
            "62/62 [==============================] - 0s 1ms/step - loss: 0.5559 - accuracy: 0.7264\n",
            "Epoch 39/150\n",
            "62/62 [==============================] - 0s 1ms/step - loss: 0.5625 - accuracy: 0.7101\n",
            "Epoch 40/150\n",
            "62/62 [==============================] - 0s 1ms/step - loss: 0.5613 - accuracy: 0.7150\n",
            "Epoch 41/150\n",
            "62/62 [==============================] - 0s 1ms/step - loss: 0.5741 - accuracy: 0.7003\n",
            "Epoch 42/150\n",
            "62/62 [==============================] - 0s 1ms/step - loss: 0.5533 - accuracy: 0.7394\n",
            "Epoch 43/150\n",
            "62/62 [==============================] - 0s 1ms/step - loss: 0.5655 - accuracy: 0.7101\n",
            "Epoch 44/150\n",
            "62/62 [==============================] - 0s 1ms/step - loss: 0.5505 - accuracy: 0.7394\n",
            "Epoch 45/150\n",
            "62/62 [==============================] - 0s 1ms/step - loss: 0.5415 - accuracy: 0.7248\n",
            "Epoch 46/150\n",
            "62/62 [==============================] - 0s 1ms/step - loss: 0.5567 - accuracy: 0.7134\n",
            "Epoch 47/150\n",
            "62/62 [==============================] - 0s 1ms/step - loss: 0.5515 - accuracy: 0.7248\n",
            "Epoch 48/150\n",
            "62/62 [==============================] - 0s 1ms/step - loss: 0.5554 - accuracy: 0.7280\n",
            "Epoch 49/150\n",
            "62/62 [==============================] - 0s 1ms/step - loss: 0.5423 - accuracy: 0.7231\n",
            "Epoch 50/150\n",
            "62/62 [==============================] - 0s 1ms/step - loss: 0.5489 - accuracy: 0.7182\n",
            "Epoch 51/150\n",
            "62/62 [==============================] - 0s 1ms/step - loss: 0.5411 - accuracy: 0.7296\n",
            "Epoch 52/150\n",
            "62/62 [==============================] - 0s 1ms/step - loss: 0.5416 - accuracy: 0.7248\n",
            "Epoch 53/150\n",
            "62/62 [==============================] - 0s 1ms/step - loss: 0.5486 - accuracy: 0.7280\n",
            "Epoch 54/150\n",
            "62/62 [==============================] - 0s 1ms/step - loss: 0.5299 - accuracy: 0.7378\n",
            "Epoch 55/150\n",
            "62/62 [==============================] - 0s 1ms/step - loss: 0.5333 - accuracy: 0.7199\n",
            "Epoch 56/150\n",
            "62/62 [==============================] - 0s 1ms/step - loss: 0.5432 - accuracy: 0.7345\n",
            "Epoch 57/150\n",
            "62/62 [==============================] - 0s 1ms/step - loss: 0.5295 - accuracy: 0.7345\n",
            "Epoch 58/150\n",
            "62/62 [==============================] - 0s 2ms/step - loss: 0.5256 - accuracy: 0.7508\n",
            "Epoch 59/150\n",
            "62/62 [==============================] - 0s 1ms/step - loss: 0.5338 - accuracy: 0.7150\n",
            "Epoch 60/150\n",
            "62/62 [==============================] - 0s 1ms/step - loss: 0.5364 - accuracy: 0.7280\n",
            "Epoch 61/150\n",
            "62/62 [==============================] - 0s 1ms/step - loss: 0.5256 - accuracy: 0.7394\n",
            "Epoch 62/150\n",
            "62/62 [==============================] - 0s 1ms/step - loss: 0.5282 - accuracy: 0.7215\n",
            "Epoch 63/150\n",
            "62/62 [==============================] - 0s 1ms/step - loss: 0.5254 - accuracy: 0.7427\n",
            "Epoch 64/150\n",
            "62/62 [==============================] - 0s 1ms/step - loss: 0.5287 - accuracy: 0.7459\n",
            "Epoch 65/150\n",
            "62/62 [==============================] - 0s 1ms/step - loss: 0.5302 - accuracy: 0.7296\n",
            "Epoch 66/150\n",
            "62/62 [==============================] - 0s 1ms/step - loss: 0.5313 - accuracy: 0.7313\n",
            "Epoch 67/150\n",
            "62/62 [==============================] - 0s 1ms/step - loss: 0.5242 - accuracy: 0.7557\n",
            "Epoch 68/150\n",
            "62/62 [==============================] - 0s 1ms/step - loss: 0.5240 - accuracy: 0.7427\n",
            "Epoch 69/150\n",
            "62/62 [==============================] - 0s 1ms/step - loss: 0.5192 - accuracy: 0.7590\n",
            "Epoch 70/150\n",
            "62/62 [==============================] - 0s 1ms/step - loss: 0.5264 - accuracy: 0.7280\n",
            "Epoch 71/150\n",
            "62/62 [==============================] - 0s 1ms/step - loss: 0.5422 - accuracy: 0.7427\n",
            "Epoch 72/150\n",
            "62/62 [==============================] - 0s 1ms/step - loss: 0.5156 - accuracy: 0.7362\n",
            "Epoch 73/150\n",
            "62/62 [==============================] - 0s 1ms/step - loss: 0.5362 - accuracy: 0.7313\n",
            "Epoch 74/150\n",
            "62/62 [==============================] - 0s 1ms/step - loss: 0.5173 - accuracy: 0.7476\n",
            "Epoch 75/150\n",
            "62/62 [==============================] - 0s 1ms/step - loss: 0.5404 - accuracy: 0.7199\n",
            "Epoch 76/150\n",
            "62/62 [==============================] - 0s 1ms/step - loss: 0.5212 - accuracy: 0.7606\n",
            "Epoch 77/150\n",
            "62/62 [==============================] - 0s 1ms/step - loss: 0.5148 - accuracy: 0.7557\n",
            "Epoch 78/150\n",
            "62/62 [==============================] - 0s 1ms/step - loss: 0.5136 - accuracy: 0.7362\n",
            "Epoch 79/150\n",
            "62/62 [==============================] - 0s 1ms/step - loss: 0.5091 - accuracy: 0.7476\n",
            "Epoch 80/150\n",
            "62/62 [==============================] - 0s 1ms/step - loss: 0.5147 - accuracy: 0.7345\n",
            "Epoch 81/150\n",
            "62/62 [==============================] - 0s 1ms/step - loss: 0.5067 - accuracy: 0.7524\n",
            "Epoch 82/150\n",
            "62/62 [==============================] - 0s 1ms/step - loss: 0.5130 - accuracy: 0.7443\n",
            "Epoch 83/150\n",
            "62/62 [==============================] - 0s 1ms/step - loss: 0.5146 - accuracy: 0.7459\n",
            "Epoch 84/150\n",
            "62/62 [==============================] - 0s 1ms/step - loss: 0.5054 - accuracy: 0.7687\n",
            "Epoch 85/150\n",
            "62/62 [==============================] - 0s 1ms/step - loss: 0.5092 - accuracy: 0.7492\n",
            "Epoch 86/150\n",
            "62/62 [==============================] - 0s 1ms/step - loss: 0.5057 - accuracy: 0.7410\n",
            "Epoch 87/150\n",
            "62/62 [==============================] - 0s 2ms/step - loss: 0.4982 - accuracy: 0.7492\n",
            "Epoch 88/150\n",
            "62/62 [==============================] - 0s 1ms/step - loss: 0.5042 - accuracy: 0.7606\n",
            "Epoch 89/150\n",
            "62/62 [==============================] - 0s 1ms/step - loss: 0.5151 - accuracy: 0.7443\n",
            "Epoch 90/150\n",
            "62/62 [==============================] - 0s 1ms/step - loss: 0.5060 - accuracy: 0.7606\n",
            "Epoch 91/150\n",
            "62/62 [==============================] - 0s 1ms/step - loss: 0.5000 - accuracy: 0.7573\n",
            "Epoch 92/150\n",
            "62/62 [==============================] - 0s 1ms/step - loss: 0.4954 - accuracy: 0.7573\n",
            "Epoch 93/150\n",
            "62/62 [==============================] - 0s 1ms/step - loss: 0.5041 - accuracy: 0.7508\n",
            "Epoch 94/150\n",
            "62/62 [==============================] - 0s 1ms/step - loss: 0.5021 - accuracy: 0.7622\n",
            "Epoch 95/150\n",
            "62/62 [==============================] - 0s 1ms/step - loss: 0.5038 - accuracy: 0.7492\n",
            "Epoch 96/150\n",
            "62/62 [==============================] - 0s 1ms/step - loss: 0.4939 - accuracy: 0.7573\n",
            "Epoch 97/150\n",
            "62/62 [==============================] - 0s 1ms/step - loss: 0.4892 - accuracy: 0.7704\n",
            "Epoch 98/150\n",
            "62/62 [==============================] - 0s 1ms/step - loss: 0.4978 - accuracy: 0.7557\n",
            "Epoch 99/150\n",
            "62/62 [==============================] - 0s 1ms/step - loss: 0.4948 - accuracy: 0.7622\n",
            "Epoch 100/150\n",
            "62/62 [==============================] - 0s 1ms/step - loss: 0.4905 - accuracy: 0.7671\n",
            "Epoch 101/150\n",
            "62/62 [==============================] - 0s 1ms/step - loss: 0.5001 - accuracy: 0.7573\n",
            "Epoch 102/150\n",
            "62/62 [==============================] - 0s 1ms/step - loss: 0.4948 - accuracy: 0.7622\n",
            "Epoch 103/150\n",
            "62/62 [==============================] - 0s 1ms/step - loss: 0.4931 - accuracy: 0.7655\n",
            "Epoch 104/150\n",
            "62/62 [==============================] - 0s 1ms/step - loss: 0.5009 - accuracy: 0.7476\n",
            "Epoch 105/150\n",
            "62/62 [==============================] - 0s 1ms/step - loss: 0.4951 - accuracy: 0.7524\n",
            "Epoch 106/150\n",
            "62/62 [==============================] - 0s 1ms/step - loss: 0.4946 - accuracy: 0.7785\n",
            "Epoch 107/150\n",
            "62/62 [==============================] - 0s 1ms/step - loss: 0.4997 - accuracy: 0.7541\n",
            "Epoch 108/150\n",
            "62/62 [==============================] - 0s 1ms/step - loss: 0.4914 - accuracy: 0.7638\n",
            "Epoch 109/150\n",
            "62/62 [==============================] - 0s 1ms/step - loss: 0.4915 - accuracy: 0.7655\n",
            "Epoch 110/150\n",
            "62/62 [==============================] - 0s 1ms/step - loss: 0.4914 - accuracy: 0.7638\n",
            "Epoch 111/150\n",
            "62/62 [==============================] - 0s 1ms/step - loss: 0.4880 - accuracy: 0.7557\n",
            "Epoch 112/150\n",
            "62/62 [==============================] - 0s 1ms/step - loss: 0.4883 - accuracy: 0.7752\n",
            "Epoch 113/150\n",
            "62/62 [==============================] - 0s 1ms/step - loss: 0.4880 - accuracy: 0.7687\n",
            "Epoch 114/150\n",
            "62/62 [==============================] - 0s 1ms/step - loss: 0.4931 - accuracy: 0.7638\n",
            "Epoch 115/150\n",
            "62/62 [==============================] - 0s 1ms/step - loss: 0.4854 - accuracy: 0.7671\n",
            "Epoch 116/150\n",
            "62/62 [==============================] - 0s 1ms/step - loss: 0.5046 - accuracy: 0.7590\n",
            "Epoch 117/150\n",
            "62/62 [==============================] - 0s 1ms/step - loss: 0.4930 - accuracy: 0.7590\n",
            "Epoch 118/150\n",
            "62/62 [==============================] - 0s 1ms/step - loss: 0.4993 - accuracy: 0.7573\n",
            "Epoch 119/150\n",
            "62/62 [==============================] - 0s 1ms/step - loss: 0.4835 - accuracy: 0.7508\n",
            "Epoch 120/150\n",
            "62/62 [==============================] - 0s 1ms/step - loss: 0.4838 - accuracy: 0.7704\n",
            "Epoch 121/150\n",
            "62/62 [==============================] - 0s 1ms/step - loss: 0.4914 - accuracy: 0.7638\n",
            "Epoch 122/150\n",
            "62/62 [==============================] - 0s 1ms/step - loss: 0.4881 - accuracy: 0.7476\n",
            "Epoch 123/150\n",
            "62/62 [==============================] - 0s 1ms/step - loss: 0.4833 - accuracy: 0.7785\n",
            "Epoch 124/150\n",
            "62/62 [==============================] - 0s 2ms/step - loss: 0.4822 - accuracy: 0.7704\n",
            "Epoch 125/150\n",
            "62/62 [==============================] - 0s 1ms/step - loss: 0.4990 - accuracy: 0.7606\n",
            "Epoch 126/150\n",
            "62/62 [==============================] - 0s 1ms/step - loss: 0.4836 - accuracy: 0.7671\n",
            "Epoch 127/150\n",
            "62/62 [==============================] - 0s 1ms/step - loss: 0.4722 - accuracy: 0.7687\n",
            "Epoch 128/150\n",
            "62/62 [==============================] - 0s 1ms/step - loss: 0.4780 - accuracy: 0.7785\n",
            "Epoch 129/150\n",
            "62/62 [==============================] - 0s 1ms/step - loss: 0.4865 - accuracy: 0.7427\n",
            "Epoch 130/150\n",
            "62/62 [==============================] - 0s 1ms/step - loss: 0.4872 - accuracy: 0.7687\n",
            "Epoch 131/150\n",
            "62/62 [==============================] - 0s 1ms/step - loss: 0.4757 - accuracy: 0.7638\n",
            "Epoch 132/150\n",
            "62/62 [==============================] - 0s 1ms/step - loss: 0.4772 - accuracy: 0.7752\n",
            "Epoch 133/150\n",
            "62/62 [==============================] - 0s 1ms/step - loss: 0.4871 - accuracy: 0.7687\n",
            "Epoch 134/150\n",
            "62/62 [==============================] - 0s 1ms/step - loss: 0.4792 - accuracy: 0.7801\n",
            "Epoch 135/150\n",
            "62/62 [==============================] - 0s 1ms/step - loss: 0.4777 - accuracy: 0.7769\n",
            "Epoch 136/150\n",
            "62/62 [==============================] - 0s 1ms/step - loss: 0.4859 - accuracy: 0.7818\n",
            "Epoch 137/150\n",
            "62/62 [==============================] - 0s 1ms/step - loss: 0.4801 - accuracy: 0.7769\n",
            "Epoch 138/150\n",
            "62/62 [==============================] - 0s 1ms/step - loss: 0.4731 - accuracy: 0.7687\n",
            "Epoch 139/150\n",
            "62/62 [==============================] - 0s 1ms/step - loss: 0.4981 - accuracy: 0.7687\n",
            "Epoch 140/150\n",
            "62/62 [==============================] - 0s 2ms/step - loss: 0.4723 - accuracy: 0.7769\n",
            "Epoch 141/150\n",
            "62/62 [==============================] - 0s 1ms/step - loss: 0.4804 - accuracy: 0.7671\n",
            "Epoch 142/150\n",
            "62/62 [==============================] - 0s 2ms/step - loss: 0.4857 - accuracy: 0.7606\n",
            "Epoch 143/150\n",
            "62/62 [==============================] - 0s 1ms/step - loss: 0.4757 - accuracy: 0.7638\n",
            "Epoch 144/150\n",
            "62/62 [==============================] - 0s 2ms/step - loss: 0.4737 - accuracy: 0.7704\n",
            "Epoch 145/150\n",
            "62/62 [==============================] - 0s 1ms/step - loss: 0.4831 - accuracy: 0.7769\n",
            "Epoch 146/150\n",
            "62/62 [==============================] - 0s 1ms/step - loss: 0.4747 - accuracy: 0.7801\n",
            "Epoch 147/150\n",
            "62/62 [==============================] - 0s 2ms/step - loss: 0.4722 - accuracy: 0.7769\n",
            "Epoch 148/150\n",
            "62/62 [==============================] - 0s 1ms/step - loss: 0.4795 - accuracy: 0.7704\n",
            "Epoch 149/150\n",
            "62/62 [==============================] - 0s 1ms/step - loss: 0.4754 - accuracy: 0.7801\n",
            "Epoch 150/150\n",
            "62/62 [==============================] - 0s 1ms/step - loss: 0.4746 - accuracy: 0.7736\n"
          ]
        },
        {
          "output_type": "execute_result",
          "data": {
            "text/plain": [
              "<keras.callbacks.History at 0x7f16d0e636d0>"
            ]
          },
          "metadata": {},
          "execution_count": 23
        }
      ]
    },
    {
      "cell_type": "code",
      "metadata": {
        "id": "uqkBAaBe4hEM"
      },
      "source": [
        "predictions = model.predict(x_test)"
      ],
      "execution_count": 36,
      "outputs": []
    },
    {
      "cell_type": "code",
      "metadata": {
        "colab": {
          "base_uri": "https://localhost:8080/"
        },
        "id": "w1KNCoTt41Cf",
        "outputId": "82ae0a17-e5c6-4778-dd85-640d5e00bede"
      },
      "source": [
        "predictions"
      ],
      "execution_count": 37,
      "outputs": [
        {
          "output_type": "execute_result",
          "data": {
            "text/plain": [
              "array([[0.16461301],\n",
              "       [0.1304582 ],\n",
              "       [0.3635078 ],\n",
              "       [0.42943493],\n",
              "       [0.9738951 ],\n",
              "       [0.27620405],\n",
              "       [0.08342776],\n",
              "       [0.55985606],\n",
              "       [0.2682863 ],\n",
              "       [0.03217927],\n",
              "       [0.4884873 ],\n",
              "       [0.36741632],\n",
              "       [0.92441213],\n",
              "       [0.786497  ],\n",
              "       [0.155965  ],\n",
              "       [0.19718254],\n",
              "       [0.7470889 ],\n",
              "       [0.37445763],\n",
              "       [0.4287396 ],\n",
              "       [0.08499923],\n",
              "       [0.1612204 ],\n",
              "       [0.73362815],\n",
              "       [0.11291295],\n",
              "       [0.04777595],\n",
              "       [0.0834215 ],\n",
              "       [0.48337865],\n",
              "       [0.51881105],\n",
              "       [0.10123616],\n",
              "       [0.16899982],\n",
              "       [0.23323104],\n",
              "       [0.6807462 ],\n",
              "       [0.42352912],\n",
              "       [0.07722306],\n",
              "       [0.16018143],\n",
              "       [0.10395157],\n",
              "       [0.1794354 ],\n",
              "       [0.21459731],\n",
              "       [0.01300961],\n",
              "       [0.15879759],\n",
              "       [0.24419051],\n",
              "       [0.28807253],\n",
              "       [0.11971003],\n",
              "       [0.5262461 ],\n",
              "       [0.12375376],\n",
              "       [0.12488276],\n",
              "       [0.95669544],\n",
              "       [0.07727456],\n",
              "       [0.45627958],\n",
              "       [0.197687  ],\n",
              "       [0.5755247 ],\n",
              "       [0.23411709],\n",
              "       [0.18279698],\n",
              "       [0.0105617 ],\n",
              "       [0.16236141],\n",
              "       [0.59284365],\n",
              "       [0.750522  ],\n",
              "       [0.8459325 ],\n",
              "       [0.75779724],\n",
              "       [0.2519139 ],\n",
              "       [0.8686851 ],\n",
              "       [0.23449913],\n",
              "       [0.36793318],\n",
              "       [0.19959018],\n",
              "       [0.941103  ],\n",
              "       [0.26878476],\n",
              "       [0.04561874],\n",
              "       [0.13828781],\n",
              "       [0.01622143],\n",
              "       [0.6018321 ],\n",
              "       [0.31454024],\n",
              "       [0.00202915],\n",
              "       [0.17718163],\n",
              "       [0.72138274],\n",
              "       [0.49083292],\n",
              "       [0.19128552],\n",
              "       [0.42933482],\n",
              "       [0.28109798],\n",
              "       [0.6111754 ],\n",
              "       [0.7864713 ],\n",
              "       [0.280245  ],\n",
              "       [0.99980855],\n",
              "       [0.22678506],\n",
              "       [0.45222625],\n",
              "       [0.49610868],\n",
              "       [0.7732173 ],\n",
              "       [0.6564565 ],\n",
              "       [0.07304928],\n",
              "       [0.14323884],\n",
              "       [0.5268601 ],\n",
              "       [0.2152054 ],\n",
              "       [0.01269817],\n",
              "       [0.15771198],\n",
              "       [0.37531617],\n",
              "       [0.98693645],\n",
              "       [0.25220096],\n",
              "       [0.17627168],\n",
              "       [0.34117436],\n",
              "       [0.19296455],\n",
              "       [0.44624656],\n",
              "       [0.1917415 ],\n",
              "       [0.52441555],\n",
              "       [0.23130345],\n",
              "       [0.8630234 ],\n",
              "       [0.6735678 ],\n",
              "       [0.97768456],\n",
              "       [0.3056471 ],\n",
              "       [0.35423744],\n",
              "       [0.09361795],\n",
              "       [0.17165321],\n",
              "       [0.15299207],\n",
              "       [0.10587427],\n",
              "       [0.14217979],\n",
              "       [0.48598853],\n",
              "       [0.00845471],\n",
              "       [0.1484237 ],\n",
              "       [0.15281385],\n",
              "       [0.18950611],\n",
              "       [0.5444821 ],\n",
              "       [0.22434619],\n",
              "       [0.01776406],\n",
              "       [0.09170806],\n",
              "       [0.1800052 ],\n",
              "       [0.47681057],\n",
              "       [0.65065116],\n",
              "       [0.21898293],\n",
              "       [0.55195034],\n",
              "       [0.14726415],\n",
              "       [0.7832512 ],\n",
              "       [0.20054689],\n",
              "       [0.38545707],\n",
              "       [0.30189937],\n",
              "       [0.14767009],\n",
              "       [0.06816193],\n",
              "       [0.67509246],\n",
              "       [0.8017485 ],\n",
              "       [0.19424167],\n",
              "       [0.12171602],\n",
              "       [0.55401444],\n",
              "       [0.34369826],\n",
              "       [0.20178956],\n",
              "       [0.21284002],\n",
              "       [0.09168732],\n",
              "       [0.39959547],\n",
              "       [0.09482118],\n",
              "       [0.32473916],\n",
              "       [0.13230574],\n",
              "       [0.29671162],\n",
              "       [0.00573006],\n",
              "       [0.31204763],\n",
              "       [0.18518716],\n",
              "       [0.10864076],\n",
              "       [0.32555318],\n",
              "       [0.22793627],\n",
              "       [0.45363027]], dtype=float32)"
            ]
          },
          "metadata": {},
          "execution_count": 37
        }
      ]
    },
    {
      "cell_type": "code",
      "metadata": {
        "colab": {
          "base_uri": "https://localhost:8080/"
        },
        "id": "bohSu2hf46-J",
        "outputId": "095d7768-d15a-4ddc-a89e-5702a61ca90e"
      },
      "source": [
        "y_test"
      ],
      "execution_count": 38,
      "outputs": [
        {
          "output_type": "execute_result",
          "data": {
            "text/plain": [
              "205    0\n",
              "247    0\n",
              "560    1\n",
              "233    0\n",
              "45     1\n",
              "      ..\n",
              "380    0\n",
              "525    0\n",
              "733    0\n",
              "704    0\n",
              "143    1\n",
              "Name: target, Length: 154, dtype: int64"
            ]
          },
          "metadata": {},
          "execution_count": 38
        }
      ]
    },
    {
      "cell_type": "code",
      "metadata": {
        "id": "wAk-2a7x4_T4"
      },
      "source": [
        "predictions = np.round(predictions).astype(int)"
      ],
      "execution_count": 39,
      "outputs": []
    },
    {
      "cell_type": "code",
      "metadata": {
        "colab": {
          "base_uri": "https://localhost:8080/"
        },
        "id": "flbiG4dSHoTm",
        "outputId": "697e72c9-07ad-49d3-b3d2-dcb4d0b14d85"
      },
      "source": [
        "predictions"
      ],
      "execution_count": 40,
      "outputs": [
        {
          "output_type": "execute_result",
          "data": {
            "text/plain": [
              "array([[0],\n",
              "       [0],\n",
              "       [0],\n",
              "       [0],\n",
              "       [1],\n",
              "       [0],\n",
              "       [0],\n",
              "       [1],\n",
              "       [0],\n",
              "       [0],\n",
              "       [0],\n",
              "       [0],\n",
              "       [1],\n",
              "       [1],\n",
              "       [0],\n",
              "       [0],\n",
              "       [1],\n",
              "       [0],\n",
              "       [0],\n",
              "       [0],\n",
              "       [0],\n",
              "       [1],\n",
              "       [0],\n",
              "       [0],\n",
              "       [0],\n",
              "       [0],\n",
              "       [1],\n",
              "       [0],\n",
              "       [0],\n",
              "       [0],\n",
              "       [1],\n",
              "       [0],\n",
              "       [0],\n",
              "       [0],\n",
              "       [0],\n",
              "       [0],\n",
              "       [0],\n",
              "       [0],\n",
              "       [0],\n",
              "       [0],\n",
              "       [0],\n",
              "       [0],\n",
              "       [1],\n",
              "       [0],\n",
              "       [0],\n",
              "       [1],\n",
              "       [0],\n",
              "       [0],\n",
              "       [0],\n",
              "       [1],\n",
              "       [0],\n",
              "       [0],\n",
              "       [0],\n",
              "       [0],\n",
              "       [1],\n",
              "       [1],\n",
              "       [1],\n",
              "       [1],\n",
              "       [0],\n",
              "       [1],\n",
              "       [0],\n",
              "       [0],\n",
              "       [0],\n",
              "       [1],\n",
              "       [0],\n",
              "       [0],\n",
              "       [0],\n",
              "       [0],\n",
              "       [1],\n",
              "       [0],\n",
              "       [0],\n",
              "       [0],\n",
              "       [1],\n",
              "       [0],\n",
              "       [0],\n",
              "       [0],\n",
              "       [0],\n",
              "       [1],\n",
              "       [1],\n",
              "       [0],\n",
              "       [1],\n",
              "       [0],\n",
              "       [0],\n",
              "       [0],\n",
              "       [1],\n",
              "       [1],\n",
              "       [0],\n",
              "       [0],\n",
              "       [1],\n",
              "       [0],\n",
              "       [0],\n",
              "       [0],\n",
              "       [0],\n",
              "       [1],\n",
              "       [0],\n",
              "       [0],\n",
              "       [0],\n",
              "       [0],\n",
              "       [0],\n",
              "       [0],\n",
              "       [1],\n",
              "       [0],\n",
              "       [1],\n",
              "       [1],\n",
              "       [1],\n",
              "       [0],\n",
              "       [0],\n",
              "       [0],\n",
              "       [0],\n",
              "       [0],\n",
              "       [0],\n",
              "       [0],\n",
              "       [0],\n",
              "       [0],\n",
              "       [0],\n",
              "       [0],\n",
              "       [0],\n",
              "       [1],\n",
              "       [0],\n",
              "       [0],\n",
              "       [0],\n",
              "       [0],\n",
              "       [0],\n",
              "       [1],\n",
              "       [0],\n",
              "       [1],\n",
              "       [0],\n",
              "       [1],\n",
              "       [0],\n",
              "       [0],\n",
              "       [0],\n",
              "       [0],\n",
              "       [0],\n",
              "       [1],\n",
              "       [1],\n",
              "       [0],\n",
              "       [0],\n",
              "       [1],\n",
              "       [0],\n",
              "       [0],\n",
              "       [0],\n",
              "       [0],\n",
              "       [0],\n",
              "       [0],\n",
              "       [0],\n",
              "       [0],\n",
              "       [0],\n",
              "       [0],\n",
              "       [0],\n",
              "       [0],\n",
              "       [0],\n",
              "       [0],\n",
              "       [0],\n",
              "       [0]])"
            ]
          },
          "metadata": {},
          "execution_count": 40
        }
      ]
    },
    {
      "cell_type": "code",
      "metadata": {
        "id": "Wfgtek6_Hp1H"
      },
      "source": [
        "from sklearn.metrics import accuracy_score "
      ],
      "execution_count": 41,
      "outputs": []
    },
    {
      "cell_type": "code",
      "metadata": {
        "colab": {
          "base_uri": "https://localhost:8080/"
        },
        "id": "qIhKuYSAIQGt",
        "outputId": "e57da44f-20a0-42f8-bc85-62d4d5ba71b9"
      },
      "source": [
        "accuracy_score(y_test.values, predictions)"
      ],
      "execution_count": 50,
      "outputs": [
        {
          "output_type": "execute_result",
          "data": {
            "text/plain": [
              "0.7077922077922078"
            ]
          },
          "metadata": {},
          "execution_count": 50
        }
      ]
    },
    {
      "cell_type": "code",
      "metadata": {
        "colab": {
          "base_uri": "https://localhost:8080/"
        },
        "id": "JiXO7yzdIVNa",
        "outputId": "de30f978-c634-48c0-84b3-cf99224fc3c8"
      },
      "source": [
        "y_test.values"
      ],
      "execution_count": 49,
      "outputs": [
        {
          "output_type": "execute_result",
          "data": {
            "text/plain": [
              "array([0, 0, 1, 0, 1, 0, 0, 1, 0, 0, 1, 0, 0, 0, 0, 0, 0, 1, 0, 0, 0, 0,\n",
              "       0, 0, 0, 0, 0, 0, 0, 0, 0, 1, 0, 0, 0, 0, 0, 0, 0, 0, 1, 0, 0, 0,\n",
              "       0, 1, 0, 1, 0, 0, 0, 1, 0, 0, 0, 1, 1, 0, 0, 1, 0, 0, 1, 1, 1, 0,\n",
              "       0, 0, 0, 1, 0, 0, 0, 0, 1, 0, 0, 1, 1, 0, 1, 0, 0, 0, 0, 0, 0, 0,\n",
              "       0, 0, 0, 0, 1, 1, 0, 0, 0, 0, 1, 1, 1, 1, 1, 0, 1, 0, 1, 0, 0, 1,\n",
              "       0, 0, 0, 0, 0, 0, 1, 1, 0, 0, 0, 1, 1, 0, 1, 1, 0, 1, 1, 1, 0, 0,\n",
              "       0, 0, 1, 0, 0, 0, 0, 0, 0, 0, 0, 0, 0, 1, 0, 1, 0, 0, 0, 0, 0, 1])"
            ]
          },
          "metadata": {},
          "execution_count": 49
        }
      ]
    },
    {
      "cell_type": "code",
      "metadata": {
        "colab": {
          "base_uri": "https://localhost:8080/",
          "height": 265
        },
        "id": "A9APR4sLK-jr",
        "outputId": "f8ccf5ea-dc5b-4191-f0af-942ff13ab66f"
      },
      "source": [
        "plt.plot(y_test.values, color=\"green\")\n",
        "plt.plot(predictions, color=\"red\")\n",
        "plt.legend([\"True_y\", \"Prediction\"])\n",
        "plt.show()"
      ],
      "execution_count": 51,
      "outputs": [
        {
          "output_type": "display_data",
          "data": {
            "image/png": "[encoded data removed]",
            "text/plain": [
              "<Figure size 432x288 with 1 Axes>"
            ]
          },
          "metadata": {
            "needs_background": "light"
          }
        }
      ]
    },
    {
      "cell_type": "code",
      "metadata": {
        "id": "rtaGoqn3MBV7"
      },
      "source": [
        ""
      ],
      "execution_count": null,
      "outputs": []
    }
  ]
}